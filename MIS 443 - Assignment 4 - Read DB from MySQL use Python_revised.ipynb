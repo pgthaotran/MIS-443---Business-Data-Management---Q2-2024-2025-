{
 "cells": [
  {
   "cell_type": "raw",
   "id": "28fa4d2b",
   "metadata": {},
   "source": [
    "The provided code is a Python script for connecting to a MySQL database and performing a basic SQL query"
   ]
  },
  {
   "cell_type": "markdown",
   "id": "cea9a6c7",
   "metadata": {},
   "source": [
    "# Method 1: Use mysql-connector-python"
   ]
  },
  {
   "cell_type": "code",
   "execution_count": 1,
   "id": "52ae9ee3",
   "metadata": {},
   "outputs": [
    {
     "name": "stdout",
     "output_type": "stream",
     "text": [
      "Requirement already satisfied: mysql-connector-python in c:\\users\\hp\\anaconda3\\lib\\site-packages (9.2.0)\n"
     ]
    }
   ],
   "source": [
    "## Install lib\n",
    "!pip install mysql-connector-python\n"
   ]
  },
  {
   "cell_type": "code",
   "execution_count": 2,
   "id": "f8956218",
   "metadata": {},
   "outputs": [
    {
     "name": "stdout",
     "output_type": "stream",
     "text": [
      "Connection established\n",
      "('13', 'Researcher', '30006', 'L0007')\n",
      "('2', 'Architect Group', '30001', 'L0001')\n",
      "('5', 'Software Group', '30002', 'L0002')\n",
      "('7', 'Design Team', '30003', 'L0003')\n"
     ]
    }
   ],
   "source": [
    "import mysql.connector\n",
    "import pandas as pd\n",
    "\n",
    "# Database connection parameters\n",
    "config = {\n",
    "    'user': 'root',\n",
    "    'password': '',\n",
    "    'host': 'localhost',\n",
    "    'port': 3306,\n",
    "    'database': 'hr',\n",
    "    'raise_on_warnings': True\n",
    "}\n",
    "\n",
    "try:\n",
    "    # Establishing a connection to the database\n",
    "    conn = mysql.connector.connect(**config)\n",
    "    print(\"Connection established\")\n",
    "\n",
    "    # Create a cursor object\n",
    "    cursor = conn.cursor()\n",
    "\n",
    "    # Your SQL query (for example, selecting all rows from a table)\n",
    "    query = \"SELECT * FROM departments\"\n",
    "\n",
    "    # Executing the query\n",
    "    cursor.execute(query)\n",
    "\n",
    "    # Fetching the rows from the query result\n",
    "    rows = cursor.fetchall()\n",
    "    for row in rows:\n",
    "        print(row)\n",
    "\n",
    "except mysql.connector.Error as err:\n",
    "    print(f\"Error: {err}\")\n",
    "\n",
    "# finally:\n",
    "#     if conn.is_connected():\n",
    "#         cursor.close()\n",
    "#         conn.close()\n",
    "#         print(\"Connection closed\")\n",
    "\n"
   ]
  },
  {
   "cell_type": "code",
   "execution_count": 3,
   "id": "cef26696",
   "metadata": {},
   "outputs": [
    {
     "name": "stderr",
     "output_type": "stream",
     "text": [
      "C:\\Users\\HP\\AppData\\Local\\Temp\\ipykernel_23212\\1061802609.py:1: UserWarning: pandas only supports SQLAlchemy connectable (engine/connection) or database string URI or sqlite3 DBAPI2 connection. Other DBAPI2 objects are not tested. Please consider using SQLAlchemy.\n",
      "  df = pd.read_sql(query, conn)\n"
     ]
    },
    {
     "data": {
      "text/html": [
       "<div>\n",
       "<style scoped>\n",
       "    .dataframe tbody tr th:only-of-type {\n",
       "        vertical-align: middle;\n",
       "    }\n",
       "\n",
       "    .dataframe tbody tr th {\n",
       "        vertical-align: top;\n",
       "    }\n",
       "\n",
       "    .dataframe thead th {\n",
       "        text-align: right;\n",
       "    }\n",
       "</style>\n",
       "<table border=\"1\" class=\"dataframe\">\n",
       "  <thead>\n",
       "    <tr style=\"text-align: right;\">\n",
       "      <th></th>\n",
       "      <th>DEPT_ID_DEP</th>\n",
       "      <th>DEP_NAME</th>\n",
       "      <th>MANAGER_ID</th>\n",
       "      <th>LOC_ID</th>\n",
       "    </tr>\n",
       "  </thead>\n",
       "  <tbody>\n",
       "    <tr>\n",
       "      <th>0</th>\n",
       "      <td>13</td>\n",
       "      <td>Researcher</td>\n",
       "      <td>30006</td>\n",
       "      <td>L0007</td>\n",
       "    </tr>\n",
       "    <tr>\n",
       "      <th>1</th>\n",
       "      <td>2</td>\n",
       "      <td>Architect Group</td>\n",
       "      <td>30001</td>\n",
       "      <td>L0001</td>\n",
       "    </tr>\n",
       "    <tr>\n",
       "      <th>2</th>\n",
       "      <td>5</td>\n",
       "      <td>Software Group</td>\n",
       "      <td>30002</td>\n",
       "      <td>L0002</td>\n",
       "    </tr>\n",
       "    <tr>\n",
       "      <th>3</th>\n",
       "      <td>7</td>\n",
       "      <td>Design Team</td>\n",
       "      <td>30003</td>\n",
       "      <td>L0003</td>\n",
       "    </tr>\n",
       "  </tbody>\n",
       "</table>\n",
       "</div>"
      ],
      "text/plain": [
       "  DEPT_ID_DEP         DEP_NAME MANAGER_ID LOC_ID\n",
       "0          13       Researcher      30006  L0007\n",
       "1           2  Architect Group      30001  L0001\n",
       "2           5   Software Group      30002  L0002\n",
       "3           7      Design Team      30003  L0003"
      ]
     },
     "execution_count": 3,
     "metadata": {},
     "output_type": "execute_result"
    }
   ],
   "source": [
    "df = pd.read_sql(query, conn)\n",
    "df"
   ]
  },
  {
   "cell_type": "code",
   "execution_count": 4,
   "id": "49928c52",
   "metadata": {},
   "outputs": [
    {
     "data": {
      "text/html": [
       "<div>\n",
       "<style scoped>\n",
       "    .dataframe tbody tr th:only-of-type {\n",
       "        vertical-align: middle;\n",
       "    }\n",
       "\n",
       "    .dataframe tbody tr th {\n",
       "        vertical-align: top;\n",
       "    }\n",
       "\n",
       "    .dataframe thead th {\n",
       "        text-align: right;\n",
       "    }\n",
       "</style>\n",
       "<table border=\"1\" class=\"dataframe\">\n",
       "  <thead>\n",
       "    <tr style=\"text-align: right;\">\n",
       "      <th></th>\n",
       "      <th>DEPT_ID_DEP</th>\n",
       "      <th>DEP_NAME</th>\n",
       "      <th>MANAGER_ID</th>\n",
       "      <th>LOC_ID</th>\n",
       "    </tr>\n",
       "  </thead>\n",
       "  <tbody>\n",
       "    <tr>\n",
       "      <th>count</th>\n",
       "      <td>4</td>\n",
       "      <td>4</td>\n",
       "      <td>4</td>\n",
       "      <td>4</td>\n",
       "    </tr>\n",
       "    <tr>\n",
       "      <th>unique</th>\n",
       "      <td>4</td>\n",
       "      <td>4</td>\n",
       "      <td>4</td>\n",
       "      <td>4</td>\n",
       "    </tr>\n",
       "    <tr>\n",
       "      <th>top</th>\n",
       "      <td>13</td>\n",
       "      <td>Researcher</td>\n",
       "      <td>30006</td>\n",
       "      <td>L0007</td>\n",
       "    </tr>\n",
       "    <tr>\n",
       "      <th>freq</th>\n",
       "      <td>1</td>\n",
       "      <td>1</td>\n",
       "      <td>1</td>\n",
       "      <td>1</td>\n",
       "    </tr>\n",
       "  </tbody>\n",
       "</table>\n",
       "</div>"
      ],
      "text/plain": [
       "       DEPT_ID_DEP    DEP_NAME MANAGER_ID LOC_ID\n",
       "count            4           4          4      4\n",
       "unique           4           4          4      4\n",
       "top             13  Researcher      30006  L0007\n",
       "freq             1           1          1      1"
      ]
     },
     "execution_count": 4,
     "metadata": {},
     "output_type": "execute_result"
    }
   ],
   "source": [
    "df.describe()"
   ]
  },
  {
   "cell_type": "markdown",
   "id": "eea513a8",
   "metadata": {},
   "source": [
    "# Method 2: Use sqlalchemy"
   ]
  },
  {
   "cell_type": "code",
   "execution_count": 5,
   "id": "5ee6ec04",
   "metadata": {},
   "outputs": [
    {
     "name": "stdout",
     "output_type": "stream",
     "text": [
      "Defaulting to user installation because normal site-packages is not writeable\n",
      "Requirement already satisfied: sqlalchemy in c:\\programdata\\anaconda3\\lib\\site-packages (2.0.25)\n",
      "Requirement already satisfied: pymysql in c:\\users\\user\\appdata\\roaming\\python\\python311\\site-packages (1.1.1)\n",
      "Requirement already satisfied: typing-extensions>=4.6.0 in c:\\programdata\\anaconda3\\lib\\site-packages (from sqlalchemy) (4.12.2)\n",
      "Requirement already satisfied: greenlet!=0.4.17 in c:\\users\\user\\appdata\\roaming\\python\\python311\\site-packages (from sqlalchemy) (3.0.3)\n"
     ]
    }
   ],
   "source": [
    "!pip install sqlalchemy pymysql\n"
   ]
  },
  {
   "cell_type": "code",
   "execution_count": 5,
   "id": "ea5db916",
   "metadata": {},
   "outputs": [
    {
     "name": "stdout",
     "output_type": "stream",
     "text": [
      "  DEPT_ID_DEP         DEP_NAME MANAGER_ID LOC_ID\n",
      "0          13       Researcher      30006  L0007\n",
      "1           2  Architect Group      30001  L0001\n",
      "2           5   Software Group      30002  L0002\n",
      "3           7      Design Team      30003  L0003\n"
     ]
    }
   ],
   "source": [
    "import pandas as pd\n",
    "from sqlalchemy import create_engine\n",
    "from sqlalchemy import create_engine, text\n",
    "from sqlalchemy.exc import SQLAlchemyError\n",
    "\n",
    "# Database connection parameters\n",
    "user= 'root'\n",
    "password = ''\n",
    "host = 'localhost'\n",
    "port = 3306\n",
    "database = 'hr'\n",
    "table_name = 'departments'\n",
    "\n",
    "###### Method 1\n",
    "# Create a connection string (URL)\n",
    "connection_string = f'mysql+pymysql://{user}:{password}@{host}/{database}'\n",
    "# Create an engine\n",
    "engine = create_engine(connection_string)\n",
    "\n",
    "####### Method 2\n",
    "# Define the connection parameters and the engine\n",
    "# connection_string = 'mysql+pymysql://root:@localhost:3306/hr'\n",
    "# engine = create_engine(connection_string)\n",
    "\n",
    "# Read the table into a DataFrame\n",
    "query = f\"SELECT * FROM {table_name}\"\n",
    "df = pd.read_sql(query, engine)\n",
    "\n",
    "print(df)\n"
   ]
  },
  {
   "cell_type": "code",
   "execution_count": 6,
   "id": "e149d7a3",
   "metadata": {},
   "outputs": [
    {
     "name": "stdout",
     "output_type": "stream",
     "text": [
      "Tables in the 'hr' database: ['departments', 'employees', 'job_history', 'jobs', 'locations']\n"
     ]
    }
   ],
   "source": [
    "##  show all the tables in a specific database\n",
    "\n",
    "# Connect to the database and retrieve the list of tables\n",
    "with engine.connect() as connection:\n",
    "    result = connection.execute(text(\"SHOW TABLES\"))\n",
    "    tables = [row[0] for row in result]\n",
    "    print(\"Tables in the 'hr' database:\", tables)\n"
   ]
  },
  {
   "cell_type": "markdown",
   "id": "5c019ffc",
   "metadata": {},
   "source": [
    "## Insert"
   ]
  },
  {
   "cell_type": "code",
   "execution_count": 7,
   "id": "94ea967e",
   "metadata": {},
   "outputs": [
    {
     "name": "stdout",
     "output_type": "stream",
     "text": [
      "An error occurred: (pymysql.err.IntegrityError) (1062, \"Duplicate entry '13' for key 'PRIMARY'\")\n",
      "[SQL: \n",
      "    INSERT INTO departments (DEPT_ID_DEP, DEP_NAME, MANAGER_ID, LOC_ID) \n",
      "    VALUES (%(DEPT_ID_DEP)s, %(DEP_NAME)s, %(MANAGER_ID)s, %(LOC_ID)s)\n",
      "]\n",
      "[parameters: {'DEPT_ID_DEP': 13, 'DEP_NAME': 'Researcher', 'MANAGER_ID': 30006, 'LOC_ID': 'L0007'}]\n",
      "(Background on this error at: https://sqlalche.me/e/20/gkpj)\n"
     ]
    }
   ],
   "source": [
    "from sqlalchemy import create_engine, text\n",
    "from sqlalchemy.exc import SQLAlchemyError\n",
    "\n",
    "# Create engine (modify with actual database credentials)\n",
    "#engine = create_engine(\"mysql+pymysql://root:@localhost:3306/hr\")\n",
    "engine = create_engine(connection_string)\n",
    "\n",
    "\n",
    "# Define new department data\n",
    "new_department_data = {\n",
    "    'DEPT_ID_DEP': 13, \n",
    "    'DEP_NAME': 'Researcher', \n",
    "    'MANAGER_ID': 30006, \n",
    "    'LOC_ID': 'L0007'\n",
    "}\n",
    "\n",
    "# SQL Insert Query using `text()`\n",
    "query = text(\"\"\"\n",
    "    INSERT INTO departments (DEPT_ID_DEP, DEP_NAME, MANAGER_ID, LOC_ID) \n",
    "    VALUES (:DEPT_ID_DEP, :DEP_NAME, :MANAGER_ID, :LOC_ID)\n",
    "\"\"\")\n",
    "\n",
    "# Execute the query correctly\n",
    "try:\n",
    "    with engine.connect() as connection:\n",
    "        result = connection.execute(query, new_department_data)  # ✅ Pass as a dictionary\n",
    "        connection.commit()  # ✅ Ensure data is committed (if autocommit is disabled)\n",
    "        print(f\"Inserted {result.rowcount} records into the departments table.\")\n",
    "except SQLAlchemyError as e:\n",
    "    print(f\"An error occurred: {e}\")\n",
    "finally:\n",
    "    engine.dispose()\n"
   ]
  },
  {
   "cell_type": "code",
   "execution_count": 8,
   "id": "63451cc2",
   "metadata": {},
   "outputs": [
    {
     "name": "stdout",
     "output_type": "stream",
     "text": [
      "  DEPT_ID_DEP         DEP_NAME MANAGER_ID LOC_ID\n",
      "0          13       Researcher      30006  L0007\n",
      "1           2  Architect Group      30001  L0001\n",
      "2           5   Software Group      30002  L0002\n",
      "3           7      Design Team      30003  L0003\n"
     ]
    }
   ],
   "source": [
    "# Read the table into a DataFrame - check insert\n",
    "query = f\"SELECT * FROM {table_name}\"\n",
    "df = pd.read_sql(query, engine)\n",
    "\n",
    "print(df)"
   ]
  },
  {
   "cell_type": "markdown",
   "id": "e04e76b5",
   "metadata": {},
   "source": [
    "## Update"
   ]
  },
  {
   "cell_type": "code",
   "execution_count": 9,
   "id": "c7027e6b",
   "metadata": {},
   "outputs": [
    {
     "name": "stdout",
     "output_type": "stream",
     "text": [
      "Updated 0 records in the departments table.\n"
     ]
    }
   ],
   "source": [
    "# Update data\n",
    "# Create engine (modify with actual database credentials)\n",
    "engine = create_engine(connection_string)\n",
    "\n",
    "# Update data\n",
    "update_data = {\n",
    "    'DEPT_ID_DEP': 12,\n",
    "    'NEW_DEP_NAME': 'Business Analytics',\n",
    "    'NEW_MANAGER_ID': 30010\n",
    "}\n",
    "\n",
    "# SQL Update Query\n",
    "update_query = text(\"\"\"\n",
    "    UPDATE departments\n",
    "    SET DEP_NAME = :NEW_DEP_NAME, MANAGER_ID = :NEW_MANAGER_ID\n",
    "    WHERE DEPT_ID_DEP = :DEPT_ID_DEP\n",
    "\"\"\")\n",
    "\n",
    "# Execute the update\n",
    "try:\n",
    "    with engine.connect() as connection:\n",
    "        result = connection.execute(update_query, update_data)  # ✅ Pass parameters as a dictionary\n",
    "        connection.commit()  # ✅ Ensure the transaction is committed\n",
    "        print(f\"Updated {result.rowcount} records in the departments table.\")\n",
    "except SQLAlchemyError as e:\n",
    "    print(f\"An error occurred: {e}\")\n",
    "finally:\n",
    "    engine.dispose()"
   ]
  },
  {
   "cell_type": "code",
   "execution_count": 10,
   "id": "0dee1847",
   "metadata": {},
   "outputs": [
    {
     "name": "stdout",
     "output_type": "stream",
     "text": [
      "  DEPT_ID_DEP         DEP_NAME MANAGER_ID LOC_ID\n",
      "0          13       Researcher      30006  L0007\n",
      "1           2  Architect Group      30001  L0001\n",
      "2           5   Software Group      30002  L0002\n",
      "3           7      Design Team      30003  L0003\n"
     ]
    }
   ],
   "source": [
    "# Read the table into a DataFrame - check updated\n",
    "query = f\"SELECT * FROM {table_name}\"\n",
    "df = pd.read_sql(query, engine)\n",
    "\n",
    "print(df)"
   ]
  },
  {
   "cell_type": "markdown",
   "id": "88d78c50",
   "metadata": {},
   "source": [
    "## Delete"
   ]
  },
  {
   "cell_type": "code",
   "execution_count": 11,
   "id": "0c2c476f",
   "metadata": {},
   "outputs": [
    {
     "name": "stdout",
     "output_type": "stream",
     "text": [
      "Deleted 0 records from the departments table.\n"
     ]
    }
   ],
   "source": [
    "from sqlalchemy import create_engine, text\n",
    "from sqlalchemy.exc import SQLAlchemyError\n",
    "\n",
    "\n",
    "# Create engine\n",
    "engine = create_engine(connection_string)\n",
    "\n",
    "# Data to specify which department to delete\n",
    "delete_data = {\n",
    "    'DEPT_ID_DEP': 12\n",
    "}\n",
    "\n",
    "# SQL Delete Query\n",
    "delete_query = text(\"\"\"\n",
    "    DELETE FROM departments\n",
    "    WHERE DEPT_ID_DEP = :DEPT_ID_DEP\n",
    "\"\"\")\n",
    "\n",
    "# Execute the delete operation\n",
    "try:\n",
    "    with engine.connect() as connection:\n",
    "        result = connection.execute(delete_query, delete_data)  # ✅ Pass as a dictionary\n",
    "        connection.commit()  # ✅ Commit the transaction to apply the delete\n",
    "        print(f\"Deleted {result.rowcount} records from the departments table.\")\n",
    "except SQLAlchemyError as e:\n",
    "    print(f\"An error occurred: {e}\")\n",
    "finally:\n",
    "    engine.dispose()\n"
   ]
  },
  {
   "cell_type": "code",
   "execution_count": 12,
   "id": "8b062c59",
   "metadata": {},
   "outputs": [
    {
     "name": "stdout",
     "output_type": "stream",
     "text": [
      "  DEPT_ID_DEP         DEP_NAME MANAGER_ID LOC_ID\n",
      "0          13       Researcher      30006  L0007\n",
      "1           2  Architect Group      30001  L0001\n",
      "2           5   Software Group      30002  L0002\n",
      "3           7      Design Team      30003  L0003\n"
     ]
    }
   ],
   "source": [
    "# Read the table into a DataFrame - check delete\n",
    "query = f\"SELECT * FROM {table_name}\"\n",
    "df = pd.read_sql(query, engine)\n",
    "\n",
    "print(df)"
   ]
  },
  {
   "cell_type": "markdown",
   "id": "ce00d56c",
   "metadata": {},
   "source": [
    "## Assignment 3: Database Manipulation with Python\n",
    "Objective: Practice database manipulation using Python to perform insert, update, and delete operations on the 'employees' table in the HR database.\n",
    "\n",
    "Background: You have already learned how to connect to a MySQL database (we use XAMPP) and perform data manipulation language (DML) operations on the 'departments' table. Now, you will apply these skills to the 'employees' table to further your understanding of database interactions using Python. \n"
   ]
  },
  {
   "cell_type": "code",
   "execution_count": 13,
   "id": "ce491337",
   "metadata": {},
   "outputs": [
    {
     "name": "stdout",
     "output_type": "stream",
     "text": [
      "Inserted 1 row(s) into employees table.\n"
     ]
    }
   ],
   "source": [
    "# New employee data to be inserted\n",
    "new_employee_data = {\n",
    "    'EMP_ID': 'E1011',\n",
    "    'F_NAME': 'John',\n",
    "    'L_NAME': 'Doe',\n",
    "    'SSN': '123460',\n",
    "    'B_DATE': '1985-10-12',\n",
    "    'SEX': 'M',\n",
    "    'ADDRESS': '123 Main St, City, IL',\n",
    "    'JOB_ID': 100,\n",
    "    'SALARY': 75000.00,\n",
    "    'MANAGER_ID': 30001,\n",
    "    'DEP_ID': 2\n",
    "}\n",
    "\n",
    "# SQL Insert Query using text()\n",
    "query = text(\"\"\"\n",
    "INSERT INTO employees (EMP_ID, F_NAME, L_NAME, SSN, B_DATE, SEX, ADDRESS, JOB_ID, SALARY, MANAGER_ID, DEP_ID)\n",
    "VALUES (:EMP_ID, :F_NAME, :L_NAME, :SSN, :B_DATE, :SEX, :ADDRESS, :JOB_ID, :SALARY, :MANAGER_ID, :DEP_ID)\n",
    "\"\"\")\n",
    "\n",
    "# Execute the insert query\n",
    "try:\n",
    "    with engine.connect() as connection:\n",
    "        result = connection.execute(query, new_employee_data)  # Pass data as a dictionary\n",
    "        connection.commit()  # Ensure data is committed if autocommit is disabled\n",
    "        print(f\"Inserted {result.rowcount} row(s) into employees table.\")\n",
    "except SQLAlchemyError as e:\n",
    "    print(f\"An error occurred: {e}\")\n",
    "finally:\n",
    "    engine.dispose()"
   ]
  },
  {
   "cell_type": "code",
   "execution_count": 14,
   "id": "f9992a0a-d6c0-403f-b2d1-4133327ddc05",
   "metadata": {},
   "outputs": [
    {
     "name": "stdout",
     "output_type": "stream",
     "text": [
      "Updated 1 row(s) in employees table.\n"
     ]
    }
   ],
   "source": [
    "# Update employee data\n",
    "update_employee_data = {\n",
    "    'EMP_ID': 'E1001',  # EMP_ID of the employee to update\n",
    "    'NEW_SALARY': 80000.00\n",
    "}\n",
    "\n",
    "# SQL Update Query using text()\n",
    "update_query = text(\"\"\"\n",
    "UPDATE employees\n",
    "SET SALARY = :NEW_SALARY\n",
    "WHERE EMP_ID = :EMP_ID\n",
    "\"\"\")\n",
    "\n",
    "# Execute the update query\n",
    "try:\n",
    "    with engine.connect() as connection:\n",
    "        result = connection.execute(update_query, update_employee_data)  # Pass data as a dictionary\n",
    "        connection.commit()  # Ensure data is committed if autocommit is disabled\n",
    "        print(f\"Updated {result.rowcount} row(s) in employees table.\")\n",
    "except SQLAlchemyError as e:\n",
    "    print(f\"An error occurred: {e}\")\n",
    "finally:\n",
    "    engine.dispose()\n",
    "# Delete employee data\n",
    "delete_employee_data = {\n",
    "    'EMP_ID': 'E1009'  # EMP_ID of the employee to delete\n",
    "}\n",
    "\n",
    "# SQL Delete Query using text()\n",
    "delete_query = text(\"\"\"\n",
    "DELETE FROM employees\n",
    "WHERE EMP_ID = :EMP_ID\n",
    "\"\"\")"
   ]
  },
  {
   "cell_type": "code",
   "execution_count": 15,
   "id": "dc993bdf-cad9-418d-9f0d-5dadaabb3a78",
   "metadata": {},
   "outputs": [
    {
     "name": "stdout",
     "output_type": "stream",
     "text": [
      "Deleted 1 row(s) from employees table.\n",
      "  EMP_ID   F_NAME   L_NAME     SSN      B_DATE SEX  \\\n",
      "0  E1001     John   Thomas  123456  1976-09-01   M   \n",
      "1  E1002    Alice    James  123457  1972-07-31   F   \n",
      "2  E1003    Steve    Wells  123458  1980-10-08   M   \n",
      "3  E1004  Santosh    Kumar  123459  1985-07-20   M   \n",
      "4  E1005    Ahmed  Hussain  123410  1981-04-01   M   \n",
      "5  E1006    Nancy    Allen  123411  1978-06-02   F   \n",
      "6  E1007     Mary   Thomas  123412  1975-05-05   F   \n",
      "7  E1008  Bharath    Gupta  123413  1985-06-05   M   \n",
      "8  E1010      Ann    Jacob  123415  1982-03-30   F   \n",
      "9  E1011     John      Doe  123460  1985-10-12   M   \n",
      "\n",
      "                        ADDRESS JOB_ID   SALARY MANAGER_ID DEP_ID  \n",
      "0         5631 Rice, OakPark,IL    100  80000.0      30001      2  \n",
      "1        980 Berry ln, Elgin,IL    200  80000.0      30002      5  \n",
      "2          291 Springs, Gary,IL    300  50000.0      30002      5  \n",
      "3      511 Aurora Av, Aurora,IL    400  60000.0      30004      5  \n",
      "4       216 Oak Tree, Geneva,IL    500  70000.0      30001      2  \n",
      "5        111 Green Pl, Elgin,IL    600  90000.0      30001      2  \n",
      "6          100 Rose Pl, Gary,IL    650  65000.0      30003      7  \n",
      "7   145 Berry Ln, Naperville,IL    660  65000.0      30003      7  \n",
      "8  111 Britany Springs,Elgin,IL    220  70000.0      30004      5  \n",
      "9         123 Main St, City, IL    100  75000.0      30001      2  \n"
     ]
    }
   ],
   "source": [
    "# Execute the delete query\n",
    "try:\n",
    "    with engine.connect() as connection:\n",
    "        result = connection.execute(delete_query, delete_employee_data)  # Pass data as a dictionary\n",
    "        connection.commit()  # Ensure data is committed if autocommit is disabled\n",
    "        print(f\"Deleted {result.rowcount} row(s) from employees table.\")\n",
    "except SQLAlchemyError as e:\n",
    "    print(f\"An error occurred: {e}\")\n",
    "finally:\n",
    "    engine.dispose()\n",
    "# Query to read the table into a DataFrame\n",
    "query = f\"SELECT * FROM employees\"\n",
    "df = pd.read_sql(query, engine)\n",
    "\n",
    "# Display the updated table\n",
    "print(df)"
   ]
  }
 ],
 "metadata": {
  "kernelspec": {
   "display_name": "Python 3 (ipykernel)",
   "language": "python",
   "name": "python3"
  },
  "language_info": {
   "codemirror_mode": {
    "name": "ipython",
    "version": 3
   },
   "file_extension": ".py",
   "mimetype": "text/x-python",
   "name": "python",
   "nbconvert_exporter": "python",
   "pygments_lexer": "ipython3",
   "version": "3.12.7"
  }
 },
 "nbformat": 4,
 "nbformat_minor": 5
}
